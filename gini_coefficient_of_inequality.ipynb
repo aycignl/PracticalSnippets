{
  "nbformat": 4,
  "nbformat_minor": 0,
  "metadata": {
    "colab": {
      "provenance": []
    },
    "kernelspec": {
      "name": "python3",
      "display_name": "Python 3"
    },
    "language_info": {
      "name": "python"
    }
  },
  "cells": [
    {
      "cell_type": "code",
      "execution_count": 1,
      "metadata": {
        "id": "8GGeumMyy5Vw"
      },
      "outputs": [],
      "source": [
        "#!/usr/bin/env python3\n",
        "\n",
        "__author__ = \"Gönül Aycı\"\n",
        "__email__ = \"aycignl@gmail.com\"\n",
        "__license__ = \"MIT\"\n",
        "__copyright__ = \"Copyright 2024, https://github.com/aycignl/PracticalSnippets\"\n"
      ]
    },
    {
      "cell_type": "markdown",
      "source": [
        "> A nation will not survive morally or economically when so few have so much and so many have so little. *Bernie Sanders*\n",
        "\n"
      ],
      "metadata": {
        "id": "0rM62EMq8wN5"
      }
    },
    {
      "cell_type": "markdown",
      "source": [
        "# Gini Coefficient of Inequality\n",
        "\n",
        "For a population of *n* individuals with values $x_{1} \\leq x_{2} \\leq ... \\leq x_{n} $\n",
        "\n",
        "$$G={\\frac {2\\sum _{i=1}^{n}i \\times x_{i}}{n\\sum _{i=1}^{n}x_{i}}}-{\\frac {n+1}{n}}$$\n",
        "\n",
        "[Reference](https://en.wikipedia.org/wiki/Gini_coefficient#Alternative_expressions)"
      ],
      "metadata": {
        "id": "7HYr-z8U4zFI"
      }
    },
    {
      "cell_type": "code",
      "source": [
        "def gini_coefficient(incomes):\n",
        "    n = len(incomes)\n",
        "    incomes.sort()\n",
        "    total_income = sum(incomes)\n",
        "\n",
        "    sum_of_ranked_incomes = sum(i * income for i, income in enumerate(incomes, 1))\n",
        "\n",
        "    gini = (2 * sum_of_ranked_incomes) / (n * total_income) - (n + 1) / n\n",
        "\n",
        "    return gini\n",
        "\n",
        "N = 5\n",
        "\n",
        "# Unequal society: one individual has all the income, others have none\n",
        "incomes_unequal = [0]*(N-1) + [5000]\n",
        "gini_unequal = gini_coefficient(incomes_unequal)\n",
        "\n",
        "# Equal society: every individual has the same income\n",
        "incomes_equal = [1000] * N\n",
        "gini_equal = gini_coefficient(incomes_equal)\n",
        "\n",
        "# Somewhat unequal society: incomes are distributed with some inequality\n",
        "incomes_somewhat_unequal = [1000, 20000, 500, 1000, 500]\n",
        "gini_somewhat_unequal = gini_coefficient(incomes_somewhat_unequal)\n",
        "\n",
        "print(f\"Gini Coefficient for an unequal society: {gini_unequal}\")\n",
        "print(f\"Gini Coefficient for a perfectly equal society: {gini_equal}\")\n",
        "print(f\"Gini Coefficient for a somewhat unequal society: {round(gini_somewhat_unequal,3)}\")\n"
      ],
      "metadata": {
        "colab": {
          "base_uri": "https://localhost:8080/"
        },
        "id": "dRR_4vlUzFCt",
        "outputId": "5ea11052-a2f7-4847-f2b5-046652440905"
      },
      "execution_count": 2,
      "outputs": [
        {
          "output_type": "stream",
          "name": "stdout",
          "text": [
            "Gini Coefficient for an unequal society: 0.8\n",
            "Gini Coefficient for a perfectly equal society: 0.0\n",
            "Gini Coefficient for a somewhat unequal society: 0.687\n"
          ]
        }
      ]
    }
  ]
}