{
  "nbformat": 4,
  "nbformat_minor": 0,
  "metadata": {
    "colab": {
      "provenance": []
    },
    "kernelspec": {
      "name": "python3",
      "display_name": "Python 3"
    },
    "language_info": {
      "name": "python"
    }
  },
  "cells": [
    {
      "cell_type": "code",
      "source": [
        "#!/usr/bin/env python3\n",
        "\n",
        "__author__ = \"Gönül Aycı\"\n",
        "__email__ = \"aycignl@gmail.com\"\n",
        "__license__ = \"MIT\"\n",
        "__copyright__ = \"Copyright 2024, https://github.com/aycignl/PracticalSnippets\"\n"
      ],
      "metadata": {
        "id": "2fCdXIAjRDhI"
      },
      "execution_count": 1,
      "outputs": []
    },
    {
      "cell_type": "code",
      "execution_count": 2,
      "metadata": {
        "id": "oadVzpetN0be"
      },
      "outputs": [],
      "source": [
        "from dataclasses import dataclass, field\n",
        "from typing import List, Optional, Union, Any\n"
      ]
    },
    {
      "cell_type": "markdown",
      "source": [
        "*   Define a data class, namely ModelConfigClass, by specifying @dataclass decorator. <br>\n",
        "> The @dataclass decorator will add the equivalent of following methods to the ModelConfigClass class [1]: __init__, __repr__, __eq__, __ne__, __lt__, __le__, __gt__, __ge__\n",
        "\n",
        "* Add additional attribute, namely **random_seed**, to handle reproducibility.\n",
        "* Define **set_seed** function to set **random_seed**.\n",
        "* In Python, you should be mindful of the *order of attributes*. Non-default arguments cannot follow arguments with default values in a function's signature, including in the __init__ method.\n",
        "\n",
        "\n",
        "\n"
      ],
      "metadata": {
        "id": "n6kvprrQWUL5"
      }
    },
    {
      "cell_type": "code",
      "source": [
        "@dataclass\n",
        "class ModelConfigClass:\n",
        "    \"\"\"Encapsulates config parameters for TensorFlow-based ML models.\n",
        "\n",
        "    Attributes:\n",
        "        model_name: Name of the model.\n",
        "        num_epochs: Number of epochs for training.\n",
        "        learning_rate: Initial learning rate for the optimizer.\n",
        "        batch_size: Batch size for training.\n",
        "        dropout_rate: Dropout rate for regularization.\n",
        "        optimizer: Name of the optimizer to use.\n",
        "        loss_function: Loss function for training.\n",
        "        metrics: Metrics to evaluate the model.\n",
        "        validation_split: Data fraction for validation.\n",
        "        learning_rate_schedule: Learning rate schedule/policy.\n",
        "        regularization: L2 regularization factor.\n",
        "        early_stopping: Whether to use early stopping.\n",
        "        random_seed: Seed for RNGs to ensure reproducibility.\n",
        "    \"\"\"\n",
        "    model_name: str\n",
        "    num_epochs: int\n",
        "    learning_rate: float\n",
        "    batch_size: int\n",
        "    dropout_rate: float\n",
        "    optimizer: str\n",
        "    loss_function: str\n",
        "    metrics: List[str] = field(default_factory=lambda: ['accuracy'])\n",
        "    validation_split: float = 0.2\n",
        "    learning_rate_schedule: Union[str, Any] = 'constant'\n",
        "    regularization: Optional[float] = None\n",
        "    early_stopping: bool = False\n",
        "    random_seed: Optional[int] = None\n",
        "\n",
        "    def __post_init__(self):\n",
        "        \"\"\"Handles additional init tasks, specifically setting the random seed.\n",
        "        \"\"\"\n",
        "        if self.random_seed is not None:\n",
        "            self.set_seed(self.random_seed)\n",
        "\n",
        "    def set_seed(self, seed: int):\n",
        "        \"\"\"Sets the random seed for reproducibility.\n",
        "\n",
        "        Args:\n",
        "            seed: The seed value for random number generators.\n",
        "        \"\"\"\n",
        "        import random\n",
        "        import numpy as np\n",
        "        # You can use alternative frameworks for ML such as Keras, PyTorch etc.\n",
        "        import tensorflow as tf\n",
        "\n",
        "        random.seed(seed)\n",
        "        np.random.seed(seed)\n",
        "        tf.random.set_seed(seed)\n",
        "        print(f\"Random seed {seed} has been set for reproducibility.\")\n"
      ],
      "metadata": {
        "id": "vumJaUy7N-Nv"
      },
      "execution_count": 3,
      "outputs": []
    },
    {
      "cell_type": "code",
      "source": [
        "# Example usage of ModelConfigClass by creating an object\n",
        "model_config = ModelConfigClass(\n",
        "    model_name='CNN_TensorFlow',\n",
        "    num_epochs=50,\n",
        "    learning_rate=0.0001,\n",
        "    learning_rate_schedule='exponential',\n",
        "    batch_size=64,\n",
        "    dropout_rate=0.2,\n",
        "    optimizer='adam',\n",
        "    loss_function='categorical_crossentropy',\n",
        "    regularization=0.001,\n",
        "    early_stopping=True,\n",
        ")\n",
        "\n",
        "model_config\n"
      ],
      "metadata": {
        "colab": {
          "base_uri": "https://localhost:8080/"
        },
        "id": "5ufB6zx0OKFQ",
        "outputId": "ff1dc90f-909b-41e3-9a60-22dd647a81a6"
      },
      "execution_count": 4,
      "outputs": [
        {
          "output_type": "execute_result",
          "data": {
            "text/plain": [
              "ModelConfigClass(model_name='CNN_TensorFlow', num_epochs=30, learning_rate=0.001, batch_size=64, dropout_rate=0.4, optimizer='adam', loss_function='categorical_crossentropy', metrics=['accuracy'], validation_split=0.2, learning_rate_schedule='exponential', regularization=0.001, early_stopping=True, random_seed=None)"
            ]
          },
          "metadata": {},
          "execution_count": 4
        }
      ]
    },
    {
      "cell_type": "markdown",
      "source": [
        "# References <br>\n",
        "1.   You can read more about Data Classes in Python: https://peps.python.org/pep-0557/\n",
        "\n",
        "\n",
        "\n"
      ],
      "metadata": {
        "id": "dy3lDkHiQgEK"
      }
    }
  ]
}